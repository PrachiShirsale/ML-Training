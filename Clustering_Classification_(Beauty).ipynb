{
  "cells": [
    {
      "cell_type": "code",
      "execution_count": 10,
      "metadata": {
        "id": "Dz_acqgSTqBV"
      },
      "outputs": [],
      "source": [
        "import pandas as pd\n",
        "from sklearn.preprocessing import StandardScaler\n",
        "from sklearn.cluster import KMeans\n",
        "from sklearn.model_selection import train_test_split, GridSearchCV\n",
        "from sklearn.linear_model import LogisticRegression\n",
        "from sklearn.ensemble import RandomForestClassifier\n",
        "from sklearn.svm import SVC\n",
        "from sklearn.metrics import classification_report"
      ]
    },
    {
      "cell_type": "code",
      "execution_count": 4,
      "metadata": {
        "id": "aukRY32aTvSz"
      },
      "outputs": [],
      "source": [
        "df = pd.read_csv(\"beauty.csv\", delimiter=';')"
      ]
    },
    {
      "cell_type": "code",
      "execution_count": 5,
      "metadata": {
        "id": "2Avn0MNWT4h4"
      },
      "outputs": [],
      "source": [
        "X = df.drop(columns=[\"looks\"])"
      ]
    },
    {
      "cell_type": "code",
      "execution_count": 9,
      "metadata": {
        "id": "jbGGDRJ9We1B"
      },
      "outputs": [],
      "source": [
        "scaler = StandardScaler()\n",
        "X_scaled = scaler.fit_transform(X)"
      ]
    },
    {
      "cell_type": "code",
      "execution_count": 6,
      "metadata": {
        "id": "WJBsZayDUGyz"
      },
      "outputs": [],
      "source": [
        "kmeans = KMeans(n_clusters=3, random_state=42)\n",
        "df['Cluster_KMeans'] = kmeans.fit_predict(X_scaled)"
      ]
    },
    {
      "cell_type": "code",
      "execution_count": 7,
      "metadata": {
        "id": "mwlMaLRdUuRj"
      },
      "outputs": [],
      "source": [
        "models_params = {\n",
        "    \"LogisticRegression\": {\n",
        "        \"model\": LogisticRegression(max_iter=1000),\n",
        "        \"params\": {\n",
        "            \"C\": [0.1, 1, 10],\n",
        "            \"solver\": ['liblinear', 'lbfgs']\n",
        "        }\n",
        "    },\n",
        "    \"RandomForest\": {\n",
        "        \"model\": RandomForestClassifier(),\n",
        "        \"params\": {\n",
        "            \"n_estimators\": [50, 100],\n",
        "            \"max_depth\": [5, 10, None]\n",
        "        }\n",
        "    },\n",
        "    \"SVC\": {\n",
        "        \"model\": SVC(),\n",
        "        \"params\": {\n",
        "            \"C\": [0.1, 1, 10],\n",
        "            \"kernel\": ['linear', 'rbf']\n",
        "        }\n",
        "    }\n",
        "}"
      ]
    },
    {
      "cell_type": "code",
      "execution_count": null,
      "metadata": {
        "colab": {
          "base_uri": "https://localhost:8080/"
        },
        "id": "3pndY9eDVpxx",
        "outputId": "fc9662eb-44f0-4ff4-93b6-407d1f8ea547"
      },
      "outputs": [
        {
          "name": "stdout",
          "output_type": "stream",
          "text": [
            "Running GridSearch for LogisticRegression\n",
            "Best Estimator for LogisticRegression: LogisticRegression(C=10, max_iter=1000)\n",
            "              precision    recall  f1-score   support\n",
            "\n",
            "           0       0.98      1.00      0.99       134\n",
            "           1       1.00      0.99      0.99        85\n",
            "           2       1.00      0.99      0.99       159\n",
            "\n",
            "    accuracy                           0.99       378\n",
            "   macro avg       0.99      0.99      0.99       378\n",
            "weighted avg       0.99      0.99      0.99       378\n",
            "\n",
            "--------------------------------------------------\n",
            "Running GridSearch for RandomForest\n",
            "Best Estimator for RandomForest: RandomForestClassifier()\n",
            "              precision    recall  f1-score   support\n",
            "\n",
            "           0       0.98      0.98      0.98       134\n",
            "           1       1.00      0.93      0.96        85\n",
            "           2       0.95      0.99      0.97       159\n",
            "\n",
            "    accuracy                           0.97       378\n",
            "   macro avg       0.98      0.96      0.97       378\n",
            "weighted avg       0.97      0.97      0.97       378\n",
            "\n",
            "--------------------------------------------------\n",
            "Running GridSearch for SVC\n",
            "Best Estimator for SVC: SVC(C=10, kernel='linear')\n",
            "              precision    recall  f1-score   support\n",
            "\n",
            "           0       0.99      1.00      1.00       134\n",
            "           1       1.00      0.99      0.99        85\n",
            "           2       1.00      1.00      1.00       159\n",
            "\n",
            "    accuracy                           1.00       378\n",
            "   macro avg       1.00      1.00      1.00       378\n",
            "weighted avg       1.00      1.00      1.00       378\n",
            "\n",
            "--------------------------------------------------\n"
          ]
        }
      ],
      "source": [
        "for name, mp in models_params.items():\n",
        "    print(f\"GridSearch for {name}\")\n",
        "    grid = GridSearchCV(mp[\"model\"], mp[\"params\"], cv=5, scoring='accuracy')\n",
        "    grid.fit(X_train, y_train)\n",
        "    y_pred = grid.predict(X_test)\n",
        "    print(f\"Best Estimator for {name}: {grid.best_estimator_}\")\n",
        "    print(classification_report(y_test, y_pred))\n",
        "    print(\"-\" * 50)"
      ]
    }
  ],
  "metadata": {
    "colab": {
      "provenance": []
    },
    "kernelspec": {
      "display_name": "Python 3",
      "name": "python3"
    },
    "language_info": {
      "name": "python"
    }
  },
  "nbformat": 4,
  "nbformat_minor": 0
}
